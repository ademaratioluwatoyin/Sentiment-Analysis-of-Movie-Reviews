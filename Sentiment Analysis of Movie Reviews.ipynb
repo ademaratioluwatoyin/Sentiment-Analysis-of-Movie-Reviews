{
 "cells": [
  {
   "cell_type": "markdown",
   "id": "66f644fe",
   "metadata": {},
   "source": [
    "## Sentiment Analysis of Movie Reviews"
   ]
  },
  {
   "cell_type": "code",
   "execution_count": 1,
   "id": "a1ee132d",
   "metadata": {},
   "outputs": [],
   "source": [
    "# import useful libraries\n",
    "import pandas as pd # pandas is used for handling tables in form of dataframes\n",
    "import numpy as np # used for algebraic problems\n",
    "import matplotlib.pyplot as plt # plotting library\n",
    "import seaborn as sns # a more advanced ploting library\n",
    "\n",
    "# show charts inline\n",
    "%matplotlib inline\n",
    "\n",
    "import re # regular expressions\n",
    "from bs4 import BeautifulSoup as bs # processes html\n",
    "import nltk # natural language processing toolkit\n",
    "from nltk.corpus import stopwords # stopwords\n",
    "from nltk.stem import WordNetLemmatizer # word lemmatizer\n",
    "\n",
    "from sklearn.feature_extraction.text import CountVectorizer # for preprocessing text\n",
    "from sklearn.model_selection import train_test_split # splits dataset into train and test sets\n",
    "from sklearn.linear_model import LogisticRegression # regressor for classification\n",
    "from sklearn.tree import DecisionTreeClassifier # decision tree classifier"
   ]
  },
  {
   "cell_type": "code",
   "execution_count": 2,
   "id": "a5a13df8",
   "metadata": {},
   "outputs": [
    {
     "data": {
      "text/html": [
       "<div>\n",
       "<style scoped>\n",
       "    .dataframe tbody tr th:only-of-type {\n",
       "        vertical-align: middle;\n",
       "    }\n",
       "\n",
       "    .dataframe tbody tr th {\n",
       "        vertical-align: top;\n",
       "    }\n",
       "\n",
       "    .dataframe thead th {\n",
       "        text-align: right;\n",
       "    }\n",
       "</style>\n",
       "<table border=\"1\" class=\"dataframe\">\n",
       "  <thead>\n",
       "    <tr style=\"text-align: right;\">\n",
       "      <th></th>\n",
       "      <th>review</th>\n",
       "      <th>sentiment</th>\n",
       "    </tr>\n",
       "  </thead>\n",
       "  <tbody>\n",
       "    <tr>\n",
       "      <th>17664</th>\n",
       "      <td>I found the pace to be glacial and the origina...</td>\n",
       "      <td>negative</td>\n",
       "    </tr>\n",
       "    <tr>\n",
       "      <th>4477</th>\n",
       "      <td>I didn't like watching DS9 compared to other S...</td>\n",
       "      <td>negative</td>\n",
       "    </tr>\n",
       "    <tr>\n",
       "      <th>29824</th>\n",
       "      <td>First of all, I apologize for my English. &lt;br ...</td>\n",
       "      <td>negative</td>\n",
       "    </tr>\n",
       "    <tr>\n",
       "      <th>47812</th>\n",
       "      <td>A remarkable film, bringing to the surface all...</td>\n",
       "      <td>positive</td>\n",
       "    </tr>\n",
       "    <tr>\n",
       "      <th>24669</th>\n",
       "      <td>Here's another of the 1940's westerns that I w...</td>\n",
       "      <td>positive</td>\n",
       "    </tr>\n",
       "  </tbody>\n",
       "</table>\n",
       "</div>"
      ],
      "text/plain": [
       "                                                  review sentiment\n",
       "17664  I found the pace to be glacial and the origina...  negative\n",
       "4477   I didn't like watching DS9 compared to other S...  negative\n",
       "29824  First of all, I apologize for my English. <br ...  negative\n",
       "47812  A remarkable film, bringing to the surface all...  positive\n",
       "24669  Here's another of the 1940's westerns that I w...  positive"
      ]
     },
     "execution_count": 2,
     "metadata": {},
     "output_type": "execute_result"
    }
   ],
   "source": [
    "# loading the dataset\n",
    "df = pd.read_csv(\"IMDB Dataset.csv\")\n",
    "# display any five rows of dataset\n",
    "df.sample(5)"
   ]
  },
  {
   "cell_type": "code",
   "execution_count": 3,
   "id": "8666e4ea",
   "metadata": {},
   "outputs": [
    {
     "data": {
      "text/plain": [
       "\"Basically there's a family where a little boy (Jake) thinks there's a zombie in his closet & his parents are fighting all the time.<br /><br />This movie is slower than a soap opera... and suddenly, Jake decides to become Rambo and kill the zombie.<br /><br />OK, first of all when you're going to make a film you must Decide if its a thriller or a drama! As a drama the movie is watchable. Parents are divorcing & arguing like in real life. And then we have Jake with his closet which totally ruins all the film! I expected to see a BOOGEYMAN similar movie, and instead i watched a drama with some meaningless thriller spots.<br /><br />3 out of 10 just for the well playing parents & descent dialogs. As for the shots with Jake: just ignore them.\""
      ]
     },
     "metadata": {},
     "output_type": "display_data"
    }
   ],
   "source": [
    "# show any review\n",
    "display(df['review'][3])"
   ]
  },
  {
   "cell_type": "code",
   "execution_count": 4,
   "id": "c1d85b65",
   "metadata": {},
   "outputs": [
    {
     "data": {
      "text/plain": [
       "\"After the success of Die Hard and it's sequels it's no surprise really that in the 1990s, a glut of 'Die Hard on a .....' movies cashed in on the wrong guy, wrong place, wrong time concept. That is what they did with Cliffhanger, Die Hard on a mountain just in time to rescue Sly 'Stop or My Mom Will Shoot' Stallone's career.<br /><br />Cliffhanger is one big nit-pickers dream, especially to those who are expert at mountain climbing, base-jumping, aviation, facial expressions, acting skills. All in all it's full of excuses to dismiss the film as one overblown pile of junk. Stallone even managed to get out-acted by a horse! However, if you an forget all the nonsense, it's actually a very lovable and undeniably entertaining romp that delivers as plenty of thrills, and unintentionally, plenty of laughs.<br /><br />You've got to love John Lithgows sneery evilness, his tick every box band of baddies, and best of all, the permanently harassed and hapless 'turncoat' agent, Rex Linn as Travers.<br /><br />He may of been Henry in 'Portrait of a Serial Killer' but Michael Rooker is noteworthy for a cringe-worthy performance as Hal, he insists on constantly shrieking in painful disbelief at his captors 'that man never hurt anybody' And whilst he surely can't be, it really does look like Ralph Waite's Frank character is grinning as the girl plummets to her death.<br /><br />Mention too must go to former 'London's Burning' actor Craig Fairbrass as the Brit bad guy, who comes a cropper whilst using Hal as a Human Football, yes, you can't help enjoy that bit, Hal needed a good kicking.<br /><br />So forget your better judgement, who cares if 'that could never happen', lower your acting expectations, turn up the volume and enjoy! And if you're looking for Qaulen, he's the one wearing the helicopter.\""
      ]
     },
     "metadata": {},
     "output_type": "display_data"
    }
   ],
   "source": [
    "# show any review\n",
    "display(df['review'][20])"
   ]
  },
  {
   "cell_type": "markdown",
   "id": "4495bbc3",
   "metadata": {},
   "source": [
    "The reviews contain html tags, punctuations that are not useful for this analysis, we will be removing them to make sure that only texts that are useful for our analysis remain."
   ]
  },
  {
   "cell_type": "code",
   "execution_count": 5,
   "id": "b59fd994",
   "metadata": {},
   "outputs": [
    {
     "name": "stderr",
     "output_type": "stream",
     "text": [
      "[nltk_data] Downloading package stopwords to /Users/user/nltk_data...\n",
      "[nltk_data]   Package stopwords is already up-to-date!\n",
      "[nltk_data] Downloading package wordnet to /Users/user/nltk_data...\n",
      "[nltk_data]   Package wordnet is already up-to-date!\n",
      "[nltk_data] Downloading package omw-1.4 to /Users/user/nltk_data...\n",
      "[nltk_data]   Package omw-1.4 is already up-to-date!\n"
     ]
    },
    {
     "data": {
      "text/plain": [
       "True"
      ]
     },
     "execution_count": 5,
     "metadata": {},
     "output_type": "execute_result"
    }
   ],
   "source": [
    "nltk.download('stopwords')\n",
    "nltk.download('wordnet')\n",
    "nltk.download('omw-1.4')"
   ]
  },
  {
   "cell_type": "code",
   "execution_count": 6,
   "id": "9df6bde2",
   "metadata": {},
   "outputs": [],
   "source": [
    "# word lemmatizer\n",
    "lemmatizer = WordNetLemmatizer()"
   ]
  },
  {
   "cell_type": "code",
   "execution_count": 7,
   "id": "14c60528",
   "metadata": {},
   "outputs": [],
   "source": [
    "# writing a function to remove tags and punctuations from reviews\n",
    "def clean_review(review):\n",
    "    # remove tags\n",
    "    review_without_tags = bs(review).get_text()\n",
    "    # remove punctuations\n",
    "    review_without_punc = re.sub(\"[^a-zA-Z]\", \" \", review_without_tags)\n",
    "    # make all text lower case\n",
    "    review_lower = review_without_punc.lower()\n",
    "    # split review into list\n",
    "    split_review = review_lower.split()\n",
    "    # remove stopwords\n",
    "    stop_words = set(stopwords.words('english'))\n",
    "    rev = [i for i in split_review if i not in stop_words]\n",
    "    # lemmatize word\n",
    "    lemma_review = [lemmatizer.lemmatize(i) for i in rev]\n",
    "    return(''.join(lemma_review))"
   ]
  },
  {
   "cell_type": "code",
   "execution_count": 8,
   "id": "3d624f40",
   "metadata": {},
   "outputs": [
    {
     "name": "stderr",
     "output_type": "stream",
     "text": [
      "/opt/anaconda3/lib/python3.9/site-packages/bs4/__init__.py:435: MarkupResemblesLocatorWarning: The input looks more like a filename than markup. You may want to open this file and pass the filehandle into Beautiful Soup.\n",
      "  warnings.warn(\n"
     ]
    },
    {
     "data": {
      "text/html": [
       "<div>\n",
       "<style scoped>\n",
       "    .dataframe tbody tr th:only-of-type {\n",
       "        vertical-align: middle;\n",
       "    }\n",
       "\n",
       "    .dataframe tbody tr th {\n",
       "        vertical-align: top;\n",
       "    }\n",
       "\n",
       "    .dataframe thead th {\n",
       "        text-align: right;\n",
       "    }\n",
       "</style>\n",
       "<table border=\"1\" class=\"dataframe\">\n",
       "  <thead>\n",
       "    <tr style=\"text-align: right;\">\n",
       "      <th></th>\n",
       "      <th>review</th>\n",
       "      <th>sentiment</th>\n",
       "    </tr>\n",
       "  </thead>\n",
       "  <tbody>\n",
       "    <tr>\n",
       "      <th>0</th>\n",
       "      <td>onereviewermentionedwatchingozepisodehookedrig...</td>\n",
       "      <td>positive</td>\n",
       "    </tr>\n",
       "    <tr>\n",
       "      <th>1</th>\n",
       "      <td>wonderfullittleproductionfilmingtechniqueunass...</td>\n",
       "      <td>positive</td>\n",
       "    </tr>\n",
       "    <tr>\n",
       "      <th>2</th>\n",
       "      <td>thoughtwonderfulwayspendtimehotsummerweekendsi...</td>\n",
       "      <td>positive</td>\n",
       "    </tr>\n",
       "    <tr>\n",
       "      <th>3</th>\n",
       "      <td>basicallyfamilylittleboyjakethinkzombieclosetp...</td>\n",
       "      <td>negative</td>\n",
       "    </tr>\n",
       "    <tr>\n",
       "      <th>4</th>\n",
       "      <td>pettermatteilovetimemoneyvisuallystunningfilmw...</td>\n",
       "      <td>positive</td>\n",
       "    </tr>\n",
       "  </tbody>\n",
       "</table>\n",
       "</div>"
      ],
      "text/plain": [
       "                                              review sentiment\n",
       "0  onereviewermentionedwatchingozepisodehookedrig...  positive\n",
       "1  wonderfullittleproductionfilmingtechniqueunass...  positive\n",
       "2  thoughtwonderfulwayspendtimehotsummerweekendsi...  positive\n",
       "3  basicallyfamilylittleboyjakethinkzombieclosetp...  negative\n",
       "4  pettermatteilovetimemoneyvisuallystunningfilmw...  positive"
      ]
     },
     "execution_count": 8,
     "metadata": {},
     "output_type": "execute_result"
    }
   ],
   "source": [
    "# create a new copy of df \n",
    "reviews = df.copy()\n",
    "# apply clean review function on reviews in df\n",
    "reviews['review'] = reviews['review'].apply(lambda x: clean_review(x))\n",
    "# view first five rows of reviews\n",
    "reviews.head()"
   ]
  },
  {
   "cell_type": "code",
   "execution_count": 9,
   "id": "615fbbe8",
   "metadata": {},
   "outputs": [
    {
     "data": {
      "image/png": "[encoded data removed]",
      "text/plain": [
       "<Figure size 432x288 with 1 Axes>"
      ]
     },
     "metadata": {
      "needs_background": "light"
     },
     "output_type": "display_data"
    }
   ],
   "source": [
    "# check for data imbalance in sentiment column\n",
    "sns.countplot(x = reviews['sentiment']);"
   ]
  },
  {
   "cell_type": "code",
   "execution_count": 10,
   "id": "9b039ba0",
   "metadata": {},
   "outputs": [
    {
     "data": {
      "text/plain": [
       "negative    25000\n",
       "positive    25000\n",
       "Name: sentiment, dtype: int64"
      ]
     },
     "execution_count": 10,
     "metadata": {},
     "output_type": "execute_result"
    }
   ],
   "source": [
    "reviews.sentiment.value_counts()"
   ]
  },
  {
   "cell_type": "code",
   "execution_count": 11,
   "id": "12b604f7",
   "metadata": {},
   "outputs": [],
   "source": [
    "# preprocessing\n",
    "vc = CountVectorizer()\n",
    "X = vc.fit_transform(reviews['review']).toarray()\n",
    "y = reviews['sentiment']\n",
    "\n",
    "# split x and y into train and test set\n",
    "Xtrain, Xtest, ytrain, ytest = train_test_split(X, y, test_size = 0.3, random_state = 42)\n",
    "\n",
    "# train an ml model using a logistic regressor\n",
    "lr = LogisticRegression()\n",
    "# fit model\n",
    "lr.fit(Xtrain, ytrain)\n",
    "lr_pred = lr.predict(Xtest)"
   ]
  },
  {
   "cell_type": "code",
   "execution_count": 12,
   "id": "c9195dd0",
   "metadata": {},
   "outputs": [
    {
     "data": {
      "text/plain": [
       "array(['negative', 'negative', 'negative', 'negative', 'negative',\n",
       "       'negative', 'negative', 'negative', 'negative', 'negative'],\n",
       "      dtype=object)"
      ]
     },
     "execution_count": 12,
     "metadata": {},
     "output_type": "execute_result"
    }
   ],
   "source": [
    "# view first 10 predictions\n",
    "lr_pred[0:10]"
   ]
  },
  {
   "cell_type": "code",
   "execution_count": 13,
   "id": "c4c35e9b",
   "metadata": {},
   "outputs": [
    {
     "data": {
      "text/plain": [
       "1.0"
      ]
     },
     "execution_count": 13,
     "metadata": {},
     "output_type": "execute_result"
    }
   ],
   "source": [
    "# accuracy score on train set\n",
    "lr.score(Xtrain, ytrain)"
   ]
  },
  {
   "cell_type": "code",
   "execution_count": 14,
   "id": "6cb897ac",
   "metadata": {},
   "outputs": [
    {
     "data": {
      "text/plain": [
       "0.49793333333333334"
      ]
     },
     "execution_count": 14,
     "metadata": {},
     "output_type": "execute_result"
    }
   ],
   "source": [
    "# accuracy score on test set\n",
    "lr.score(Xtest, ytest)"
   ]
  },
  {
   "cell_type": "markdown",
   "id": "6464aec5",
   "metadata": {},
   "source": [
    "This is overfitting!"
   ]
  },
  {
   "cell_type": "code",
   "execution_count": null,
   "id": "be8bfd76",
   "metadata": {},
   "outputs": [],
   "source": [
    "# let's try the tree classifier\n",
    "tree = DecisionTreeClassifier()\n",
    "# fit the model\n",
    "tree.fit(Xtrain, ytrain)\n",
    "tree_pred = tree.predict(Xtest)"
   ]
  },
  {
   "cell_type": "code",
   "execution_count": null,
   "id": "95b4d7e3",
   "metadata": {},
   "outputs": [],
   "source": [
    "# view first 10 predictions\n",
    "tree_pred[0:10]"
   ]
  }
 ],
 "metadata": {
  "kernelspec": {
   "display_name": "Python 3 (ipykernel)",
   "language": "python",
   "name": "python3"
  },
  "language_info": {
   "codemirror_mode": {
    "name": "ipython",
    "version": 3
   },
   "file_extension": ".py",
   "mimetype": "text/x-python",
   "name": "python",
   "nbconvert_exporter": "python",
   "pygments_lexer": "ipython3",
   "version": "3.9.12"
  }
 },
 "nbformat": 4,
 "nbformat_minor": 5
}
